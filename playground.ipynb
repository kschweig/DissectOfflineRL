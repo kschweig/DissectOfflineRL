{
 "cells": [
  {
   "cell_type": "code",
   "execution_count": 2,
   "metadata": {
    "collapsed": true
   },
   "outputs": [],
   "source": [
    "import gym\n",
    "from gym_minigrid.wrappers import *\n",
    "import numpy as np\n",
    "import torch"
   ]
  },
  {
   "cell_type": "code",
   "execution_count": 40,
   "outputs": [
    {
     "name": "stdout",
     "output_type": "stream",
     "text": [
      "(7, 7, 3)\n",
      "[[2 2 2 2 2 2 2]\n",
      " [2 2 2 2 2 2 2]\n",
      " [2 2 2 2 2 2 2]\n",
      " [8 1 9 9 9 1 1]\n",
      " [1 1 9 9 9 1 1]\n",
      " [1 1 1 1 1 1 1]\n",
      " [1 1 1 1 1 1 1]]\n",
      "[[5 5 5 5 5 5 5]\n",
      " [5 5 5 5 5 5 5]\n",
      " [5 5 5 5 5 5 5]\n",
      " [1 0 0 0 0 0 0]\n",
      " [0 0 0 0 0 0 0]\n",
      " [0 0 0 0 0 0 0]\n",
      " [0 0 0 0 0 0 0]]\n",
      "7\n",
      "0\n",
      "(7, 7, 3)\n",
      "[[2 2 2 2 2 2 2]\n",
      " [2 2 2 2 2 2 2]\n",
      " [2 2 2 2 2 2 2]\n",
      " [2 2 2 2 2 2 1]\n",
      " [2 2 2 2 2 2 1]\n",
      " [2 2 2 2 2 2 9]\n",
      " [2 2 2 2 2 2 9]]\n",
      "0\n",
      "(7, 7, 3)\n",
      "[[2 2 2 2 2 2 1]\n",
      " [2 2 2 2 2 2 1]\n",
      " [2 2 2 2 2 2 1]\n",
      " [2 2 2 2 2 2 1]\n",
      " [2 2 2 2 2 2 2]\n",
      " [2 2 2 2 2 2 2]\n",
      " [2 2 2 2 2 2 2]]\n",
      "0\n",
      "(7, 7, 3)\n",
      "[[2 2 1 1 1 9 9]\n",
      " [2 2 1 1 1 9 9]\n",
      " [2 2 1 1 1 1 1]\n",
      " [2 2 1 1 1 1 1]\n",
      " [2 2 2 2 2 2 2]\n",
      " [2 2 2 2 2 2 2]\n",
      " [2 2 2 2 2 2 2]]\n",
      "0\n",
      "(7, 7, 3)\n",
      "[[2 2 2 2 2 2 2]\n",
      " [2 2 2 2 2 2 2]\n",
      " [2 2 2 2 2 2 2]\n",
      " [8 1 9 9 9 1 1]\n",
      " [1 1 9 9 9 1 1]\n",
      " [1 1 1 1 1 1 1]\n",
      " [1 1 1 1 1 1 1]]\n"
     ]
    }
   ],
   "source": [
    "env = gym.make('MiniGrid-DistShift1-v0')\n",
    "\n",
    "env = ImgObsWrapper(env) # Get rid o\n",
    "#env = FlatObsWrapper(env) # Get flat observationo\n",
    "obs = env.reset() # This now produces an RGB tensor only\n",
    "print(obs.shape)\n",
    "# minigrid consists of object_ids, color_ids and state ids\n",
    "print(obs[:,:,0])\n",
    "print(obs[:,:,1])\n",
    "print(env.action_space.n)\n",
    "for i in range(4):\n",
    "    action = 0\n",
    "    print(action)\n",
    "    obs, _, _, _ = env.step(action)\n",
    "    print(obs.shape)\n",
    "    print(obs[:,:,0])"
   ],
   "metadata": {
    "collapsed": false,
    "pycharm": {
     "name": "#%%\n"
    }
   }
  },
  {
   "cell_type": "code",
   "execution_count": 25,
   "outputs": [
    {
     "name": "stdout",
     "output_type": "stream",
     "text": [
      "-4.0\n",
      "0.9980019986673331\n"
     ]
    }
   ],
   "source": [
    "test = np.ones((3,1)) - 5\n",
    "test[0] = 0\n",
    "\n",
    "print(np.max(test[np.where(test)[0]]))\n",
    "\n",
    "print(np.exp(-1/500))"
   ],
   "metadata": {
    "collapsed": false,
    "pycharm": {
     "name": "#%%\n"
    }
   }
  },
  {
   "cell_type": "code",
   "execution_count": 20,
   "outputs": [
    {
     "name": "stdout",
     "output_type": "stream",
     "text": [
      "[[1 2 3]\n",
      " [1 2 3]\n",
      " [1 2 3]] [[1 2 3]] (1, 3)\n",
      "[[1 2 3 1 2 3]\n",
      " [1 2 3 1 2 3]\n",
      " [1 2 3 1 2 3]]\n"
     ]
    }
   ],
   "source": [
    "test = np.asarray([[1,2,3], [1,2,3], [1,2,3]])\n",
    "test2 = np.asarray([[1,2,3]])\n",
    "print(test, test2, test2.shape)\n",
    "print(np.concatenate((test, np.repeat(test2,3, axis=0)), axis=1))"
   ],
   "metadata": {
    "collapsed": false,
    "pycharm": {
     "name": "#%%\n"
    }
   }
  },
  {
   "cell_type": "code",
   "execution_count": null,
   "outputs": [],
   "source": [],
   "metadata": {
    "collapsed": false,
    "pycharm": {
     "name": "#%%\n"
    }
   }
  }
 ],
 "metadata": {
  "kernelspec": {
   "display_name": "Python 3",
   "language": "python",
   "name": "python3"
  },
  "language_info": {
   "codemirror_mode": {
    "name": "ipython",
    "version": 2
   },
   "file_extension": ".py",
   "mimetype": "text/x-python",
   "name": "python",
   "nbconvert_exporter": "python",
   "pygments_lexer": "ipython2",
   "version": "2.7.6"
  }
 },
 "nbformat": 4,
 "nbformat_minor": 0
}