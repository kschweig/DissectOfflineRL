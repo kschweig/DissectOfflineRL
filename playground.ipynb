{
 "cells": [
  {
   "cell_type": "code",
   "execution_count": 2,
   "metadata": {
    "collapsed": true
   },
   "outputs": [],
   "source": [
    "import gym\n",
    "from gym_minigrid.wrappers import *\n"
   ]
  },
  {
   "cell_type": "code",
   "execution_count": 13,
   "outputs": [
    {
     "name": "stdout",
     "output_type": "stream",
     "text": [
      "(7, 7, 3)\n",
      "[[2 2 2 2 2 2 2]\n",
      " [2 2 2 2 2 2 2]\n",
      " [2 2 2 2 2 2 2]\n",
      " [2 1 1 1 1 1 1]\n",
      " [2 1 1 1 1 1 1]\n",
      " [2 1 1 1 1 1 1]\n",
      " [2 1 1 1 1 1 1]]\n",
      "7\n"
     ]
    }
   ],
   "source": [
    "env = gym.make('MiniGrid-Empty-8x8-v0')\n",
    "\n",
    "env = ImgObsWrapper(env) # Get rid o\n",
    "#env = FlatObsWrapper(env) # Get flat observationo\n",
    "obs = env.reset() # This now produces an RGB tensor only\n",
    "print(obs.shape)\n",
    "print(obs[:,:,0])\n",
    "print(env.action_space.n)"
   ],
   "metadata": {
    "collapsed": false,
    "pycharm": {
     "name": "#%%\n"
    }
   }
  },
  {
   "cell_type": "code",
   "execution_count": null,
   "outputs": [],
   "source": [],
   "metadata": {
    "collapsed": false,
    "pycharm": {
     "name": "#%%\n"
    }
   }
  }
 ],
 "metadata": {
  "kernelspec": {
   "display_name": "Python 3",
   "language": "python",
   "name": "python3"
  },
  "language_info": {
   "codemirror_mode": {
    "name": "ipython",
    "version": 2
   },
   "file_extension": ".py",
   "mimetype": "text/x-python",
   "name": "python",
   "nbconvert_exporter": "python",
   "pygments_lexer": "ipython2",
   "version": "2.7.6"
  }
 },
 "nbformat": 4,
 "nbformat_minor": 0
}